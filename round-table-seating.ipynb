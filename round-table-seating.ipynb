{
 "cells": [
  {
   "cell_type": "markdown",
   "metadata": {},
   "source": [
    "## <div align=center> Round Table Seating Arrangement </div>\n",
    "<div align=center>Using Metahuerstic Algorithms</div>\n",
    "<hr>"
   ]
  },
  {
   "cell_type": "markdown",
   "metadata": {},
   "source": [
    "#### <b>Abstract</b>\n",
    "In this report, the Round Table Seating arrangemnet is approached diffrently formulated as a search problem. The approchaes are Genetic Algorithm, Simulated Annealing, and Hill Climbing. Then a comparison is made between them. Throughout this report, the theory, implemnattions, discussion and conclusion are presented. It is required that rach person should be seated next to their neighbors on the left and right to facilitate conversation. It also should form a closed loop, as it is a round table.\n",
    "\n",
    "<hr>"
   ]
  },
  {
   "cell_type": "markdown",
   "metadata": {},
   "source": [
    "#### <b>Table of Contents</b>\n",
    "- <b>Introduction</b>\n",
    "- <b>Objectives</b>\n",
    "- <b>Theory</b>\n",
    "- <b>Software Versions</b>\n",
    "- <b>Algorithms Implementations</b>\n",
    "- <b>Discussion</b>\n",
    "- <b>Conclusion</b>\n",
    "\n",
    "#### <b>List of Figures</b>\n",
    "- Figure 1: Given Dislike Matrix\n",
    "- Figure 2: Graph Visualization\n",
    "- Figure 3: Round Table Seating Arrangement for Genetic\n",
    "- Figure 4: Round Table Seating Arrangement for Simulated Annealing\n",
    "- Figure 5: Round Table Seating Arrangement for Hill climbing\n",
    "- Figure 6: Optimal Round Table Seating Arrangement\n",
    "\n",
    "#### <b>List of Tables</b>\n",
    "- Table 0: Metaheursitc Vs. Heuristic\n",
    "- Table 1: Software Tools and versions\n",
    "- Table 2: Implemenataions comparisons and results.\n",
    "\n",
    "<hr>"
   ]
  },
  {
   "cell_type": "markdown",
   "metadata": {},
   "source": [
    "#### <b>Introduction</b>\n",
    "\n",
    "In this notebook a heuristic table representing the dislike percentages between pairs of individuals, indicating the level of conflict or discomfort each person feels towards others is provided. The goal is to seat the individuals around a round table in the most suitable arrangement to minimize conflict while ensuring that each person can talk to their neighbors on the left and right. The heuristic table provides dislike percentages between pairs of individuals, with higher percentages indicating greater dislike or conflict. For example, a dislike percentage of 20% between Person A and Person B indicates a low level of conflict, while a dislike percentage of 80% indicates a high level of conflict.\n",
    "\n",
    " The follwing figure shows the matrix:\n",
    "\n",
    "<div align='center'>\n",
    "<img src=\"https://github.com/sondosaabed/Introducing-Generative-AI-with-AWS/assets/65151701/79c867bc-5297-4e69-99b6-a2041c919783\" alt=\"Dislike matrix\">\n",
    "\n",
    "<b>Figure 1: </b>Given Dislike Matrix\n",
    "</div>"
   ]
  },
  {
   "cell_type": "markdown",
   "metadata": {},
   "source": [
    "#### <b>Objectives</b>\n",
    "- To implemnet Genetic algorithm\n",
    "- To implemet Simulated Annealing algorithm\n",
    "- To implement Hill Climbing algorithm\n",
    "- To determine which algorithm can find the best seating arrangement that minimizes conflict based on the provided heuristic table and the Non-Linear Dislike Cost function."
   ]
  },
  {
   "cell_type": "markdown",
   "metadata": {},
   "source": [
    "#### <b>Theory</b>"
   ]
  },
  {
   "cell_type": "markdown",
   "metadata": {},
   "source": [
    "##### <b>Metahuerstic Vs. Heuristic</b>\n",
    "Metahuerstic and Heuristic are both approaches in computer science that are non-exact stratgies. The Non-exact algorithms explore the problem in an intelligent way, thus finding good results in a feasible time with fewer resources.\n",
    "\n",
    "A **heuristic** is a strategy that uses information about the problem being solved to find promising solutions. Similar to heuristics, **metaheuristics** aim to find promising results for a problem. However, the algorithm used for a metaheuristic is generic and can deal with different problems. *Problem-independent design*. [2]\n",
    "\n",
    "<div align=\"center\">\n",
    "\n",
    "**Table 0:** Metahuerstic Vs. Heuristic table [2]\n",
    "\n",
    "<img src=\"https://github.com/keras-team/keras/assets/65151701/1d28944d-ba81-4ca0-952c-f1d705668732\" height=\"300\">\n",
    "</div>"
   ]
  },
  {
   "cell_type": "markdown",
   "metadata": {},
   "source": [
    "##### <b>Genetic Algorthsm (GA)</b>\n",
    "\n",
    "GA is inspired by the principles of natural selection and genetics. It starts by randomly generating an initial population of solutions, and then evolves the population byapplying operators such as selection, crossover, and mutation. These operators simulate the processof natural selection, where individuals with higher fitness are more likely to reproduce and pass ontheir traits to the next generation. GA has been widely used in optimization problems that involvefinding the best combination of parameters or feature. [1]"
   ]
  },
  {
   "cell_type": "markdown",
   "metadata": {},
   "source": [
    "##### <b>Simulated Annealing (SA)</b>\n",
    "SA is a stochastic optimization algorithm that is inspired by the process of annealing in metallurgy. It starts by randomly generating an initial solution, and thengradually reduces the temperature of the system. As the temperature decreases, the algorithmbecomes more likely to accept worse solutions in order to escape local optima. SA has been widelyused in optimization problems that involve finding the best configuration of parameters in complexmodels or simulations. [1]"
   ]
  },
  {
   "cell_type": "markdown",
   "metadata": {},
   "source": [
    "##### <b>Hill Climbing (HC)</b>\n",
    "HC is a simple optimization algorithm used in Artificial Intelligence (AI) to find the best possible solution for a given problem. It belongs to the family of local search algorithms and is often used in optimization problems where the goal is to find the best solution from a set of possible solutions. [3]"
   ]
  },
  {
   "cell_type": "markdown",
   "metadata": {},
   "source": [
    "#### <b>Tools and Versions</b>\n",
    "\n",
    "The below table shows the tools and versions used to solve this problem.\n",
    "\n",
    "<b>Table 1:</b> Software Tools and versions\n",
    "\n",
    "<div align=\"center\">\n",
    "\n",
    "\n",
    "|Tool | Version |\n",
    "|-----|---------|\n",
    "|Python|3.12.2|\n",
    "|Numpy|1.26.4|\n",
    "|Matplotlib|3.8.2|\n",
    "|Pandas|2.2.1|\n",
    "|Visual Studio Code |Updated|\n",
    "|networkx|3.0.0|\n",
    "|heapq|last update|\n",
    "\n",
    "</div>"
   ]
  },
  {
   "cell_type": "markdown",
   "metadata": {},
   "source": [
    "<b>Neccessary Imports</b>"
   ]
  },
  {
   "cell_type": "code",
   "execution_count": 1,
   "metadata": {},
   "outputs": [],
   "source": [
    "import numpy as np\n",
    "import pandas as pd\n",
    "import matplotlib.pyplot as plt\n",
    "import networkx as nx"
   ]
  },
  {
   "cell_type": "markdown",
   "metadata": {},
   "source": [
    "#### <b>Data Structure</b>"
   ]
  },
  {
   "cell_type": "markdown",
   "metadata": {},
   "source": [
    "<b>The follownig dislike matrix was given:</b>"
   ]
  },
  {
   "cell_type": "code",
   "execution_count": 2,
   "metadata": {},
   "outputs": [],
   "source": [
    "dislike_matrix = {\n",
    "    'Khalid': {'Khalid': 0.0, 'Ibrahim': 0.45, 'Fuad': 0.78, 'Hakam': 0.81, 'Samir': 0.26, 'Kamal': 0.75, 'Hani': 0.92, 'Ayman': 0.64, 'Salem': 0.99, 'Ahmed': 0.43},\n",
    "    'Ibrahim': {'Khalid': 0.45, 'Ibrahim': 0.0, 'Fuad': 0.81, 'Hakam': 0.87, 'Samir': 0.37, 'Kamal': 0.42, 'Hani': 0.53, 'Ayman': 0.88, 'Salem': 0.62, 'Ahmed': 0.76},\n",
    "    'Fuad': {'Khalid': 0.78, 'Ibrahim': 0.81, 'Fuad': 0.0, 'Hakam': 0.92, 'Samir': 0.97, 'Kamal': 0.53, 'Hani': 0.99, 'Ayman': 0.90, 'Salem': 0.17, 'Ahmed': 0.10},\n",
    "    'Hakam': {'Khalid': 0.81, 'Ibrahim': 0.87, 'Fuad': 0.92, 'Hakam': 0.0, 'Samir': 0.63, 'Kamal': 0.88, 'Hani': 0.78, 'Ayman': 0.51, 'Salem': 0.55, 'Ahmed': 0.33},\n",
    "    'Samir': {'Khalid': 0.26, 'Ibrahim': 0.37, 'Fuad': 0.97, 'Hakam': 0.63, 'Samir': 0.0, 'Kamal': 0.43, 'Hani': 0.86, 'Ayman': 0.96, 'Salem': 0.20, 'Ahmed': 0.48},\n",
    "    'Kamal': {'Khalid': 0.75, 'Ibrahim': 0.42, 'Fuad': 0.53, 'Hakam': 0.88, 'Samir': 0.43, 'Kamal': 0.0, 'Hani': 0.91, 'Ayman': 0.63, 'Salem': 0.76, 'Ahmed': 0.82},\n",
    "    'Hani': {'Khalid': 0.92, 'Ibrahim': 0.53, 'Fuad': 0.99, 'Hakam': 0.78, 'Samir': 0.86, 'Kamal': 0.91, 'Hani': 0.0, 'Ayman': 0.70, 'Salem': 0.11, 'Ahmed': 0.30},\n",
    "    'Ayman': {'Khalid': 0.64, 'Ibrahim': 0.88, 'Fuad': 0.90, 'Hakam': 0.51, 'Samir': 0.96, 'Kamal': 0.63, 'Hani': 0.70, 'Ayman': 0.0, 'Salem': 0.90, 'Ahmed': 0.55},\n",
    "    'Salem': {'Khalid': 0.99, 'Ibrahim': 0.62, 'Fuad': 0.17, 'Hakam': 0.55, 'Samir': 0.20, 'Kamal': 0.76, 'Hani': 0.11, 'Ayman': 0.90, 'Salem': 0.0, 'Ahmed': 0.68},\n",
    "    'Ahmed': {'Khalid': 0.43, 'Ibrahim': 0.76, 'Fuad': 0.10, 'Hakam': 0.33, 'Samir': 0.48, 'Kamal': 0.82, 'Hani': 0.30, 'Ayman': 0.55, 'Salem': 0.68, 'Ahmed': 0.0},\n",
    "}"
   ]
  },
  {
   "cell_type": "markdown",
   "metadata": {},
   "source": [
    "<b>Using pandas dataframe</b>"
   ]
  },
  {
   "cell_type": "code",
   "execution_count": 3,
   "metadata": {},
   "outputs": [
    {
     "data": {
      "text/html": [
       "<div>\n",
       "<style scoped>\n",
       "    .dataframe tbody tr th:only-of-type {\n",
       "        vertical-align: middle;\n",
       "    }\n",
       "\n",
       "    .dataframe tbody tr th {\n",
       "        vertical-align: top;\n",
       "    }\n",
       "\n",
       "    .dataframe thead th {\n",
       "        text-align: right;\n",
       "    }\n",
       "</style>\n",
       "<table border=\"1\" class=\"dataframe\">\n",
       "  <thead>\n",
       "    <tr style=\"text-align: right;\">\n",
       "      <th></th>\n",
       "      <th>Khalid</th>\n",
       "      <th>Ibrahim</th>\n",
       "      <th>Fuad</th>\n",
       "      <th>Hakam</th>\n",
       "      <th>Samir</th>\n",
       "      <th>Kamal</th>\n",
       "      <th>Hani</th>\n",
       "      <th>Ayman</th>\n",
       "      <th>Salem</th>\n",
       "      <th>Ahmed</th>\n",
       "    </tr>\n",
       "  </thead>\n",
       "  <tbody>\n",
       "    <tr>\n",
       "      <th>Khalid</th>\n",
       "      <td>0</td>\n",
       "      <td>45</td>\n",
       "      <td>78</td>\n",
       "      <td>81</td>\n",
       "      <td>26</td>\n",
       "      <td>75</td>\n",
       "      <td>92</td>\n",
       "      <td>64</td>\n",
       "      <td>99</td>\n",
       "      <td>43</td>\n",
       "    </tr>\n",
       "    <tr>\n",
       "      <th>Ibrahim</th>\n",
       "      <td>45</td>\n",
       "      <td>0</td>\n",
       "      <td>81</td>\n",
       "      <td>87</td>\n",
       "      <td>37</td>\n",
       "      <td>42</td>\n",
       "      <td>53</td>\n",
       "      <td>88</td>\n",
       "      <td>62</td>\n",
       "      <td>76</td>\n",
       "    </tr>\n",
       "    <tr>\n",
       "      <th>Fuad</th>\n",
       "      <td>78</td>\n",
       "      <td>81</td>\n",
       "      <td>0</td>\n",
       "      <td>92</td>\n",
       "      <td>97</td>\n",
       "      <td>53</td>\n",
       "      <td>99</td>\n",
       "      <td>90</td>\n",
       "      <td>17</td>\n",
       "      <td>10</td>\n",
       "    </tr>\n",
       "    <tr>\n",
       "      <th>Hakam</th>\n",
       "      <td>81</td>\n",
       "      <td>87</td>\n",
       "      <td>92</td>\n",
       "      <td>0</td>\n",
       "      <td>63</td>\n",
       "      <td>88</td>\n",
       "      <td>78</td>\n",
       "      <td>51</td>\n",
       "      <td>55</td>\n",
       "      <td>33</td>\n",
       "    </tr>\n",
       "    <tr>\n",
       "      <th>Samir</th>\n",
       "      <td>26</td>\n",
       "      <td>37</td>\n",
       "      <td>97</td>\n",
       "      <td>63</td>\n",
       "      <td>0</td>\n",
       "      <td>43</td>\n",
       "      <td>86</td>\n",
       "      <td>96</td>\n",
       "      <td>20</td>\n",
       "      <td>48</td>\n",
       "    </tr>\n",
       "    <tr>\n",
       "      <th>Kamal</th>\n",
       "      <td>75</td>\n",
       "      <td>42</td>\n",
       "      <td>53</td>\n",
       "      <td>88</td>\n",
       "      <td>43</td>\n",
       "      <td>0</td>\n",
       "      <td>91</td>\n",
       "      <td>63</td>\n",
       "      <td>76</td>\n",
       "      <td>82</td>\n",
       "    </tr>\n",
       "    <tr>\n",
       "      <th>Hani</th>\n",
       "      <td>92</td>\n",
       "      <td>53</td>\n",
       "      <td>99</td>\n",
       "      <td>78</td>\n",
       "      <td>86</td>\n",
       "      <td>91</td>\n",
       "      <td>0</td>\n",
       "      <td>70</td>\n",
       "      <td>11</td>\n",
       "      <td>30</td>\n",
       "    </tr>\n",
       "    <tr>\n",
       "      <th>Ayman</th>\n",
       "      <td>64</td>\n",
       "      <td>88</td>\n",
       "      <td>90</td>\n",
       "      <td>51</td>\n",
       "      <td>96</td>\n",
       "      <td>63</td>\n",
       "      <td>70</td>\n",
       "      <td>0</td>\n",
       "      <td>90</td>\n",
       "      <td>55</td>\n",
       "    </tr>\n",
       "    <tr>\n",
       "      <th>Salem</th>\n",
       "      <td>99</td>\n",
       "      <td>62</td>\n",
       "      <td>17</td>\n",
       "      <td>55</td>\n",
       "      <td>20</td>\n",
       "      <td>76</td>\n",
       "      <td>11</td>\n",
       "      <td>90</td>\n",
       "      <td>0</td>\n",
       "      <td>68</td>\n",
       "    </tr>\n",
       "    <tr>\n",
       "      <th>Ahmed</th>\n",
       "      <td>43</td>\n",
       "      <td>76</td>\n",
       "      <td>10</td>\n",
       "      <td>33</td>\n",
       "      <td>48</td>\n",
       "      <td>82</td>\n",
       "      <td>30</td>\n",
       "      <td>55</td>\n",
       "      <td>68</td>\n",
       "      <td>0</td>\n",
       "    </tr>\n",
       "  </tbody>\n",
       "</table>\n",
       "</div>"
      ],
      "text/plain": [
       "         Khalid  Ibrahim  Fuad  Hakam  Samir  Kamal  Hani  Ayman  Salem  Ahmed\n",
       "Khalid        0       45    78     81     26     75    92     64     99     43\n",
       "Ibrahim      45        0    81     87     37     42    53     88     62     76\n",
       "Fuad         78       81     0     92     97     53    99     90     17     10\n",
       "Hakam        81       87    92      0     63     88    78     51     55     33\n",
       "Samir        26       37    97     63      0     43    86     96     20     48\n",
       "Kamal        75       42    53     88     43      0    91     63     76     82\n",
       "Hani         92       53    99     78     86     91     0     70     11     30\n",
       "Ayman        64       88    90     51     96     63    70      0     90     55\n",
       "Salem        99       62    17     55     20     76    11     90      0     68\n",
       "Ahmed        43       76    10     33     48     82    30     55     68      0"
      ]
     },
     "execution_count": 3,
     "metadata": {},
     "output_type": "execute_result"
    }
   ],
   "source": [
    "df_dislike = pd.DataFrame.from_dict(dislike_matrix, orient='index')\n",
    "df_dislike = df_dislike*100\n",
    "df_dislike.astype(int)"
   ]
  },
  {
   "cell_type": "markdown",
   "metadata": {},
   "source": [
    "<b>Initilaize the edges and the nodes from the datframe</b>\n",
    "\n",
    "Using a Graph datastructure"
   ]
  },
  {
   "cell_type": "code",
   "execution_count": 4,
   "metadata": {},
   "outputs": [
    {
     "name": "stdout",
     "output_type": "stream",
     "text": [
      "Graph with 10 nodes and 55 edges\n"
     ]
    }
   ],
   "source": [
    "graph = nx.Graph()\n",
    "graph.add_nodes_from(df_dislike.index)\n",
    "\n",
    "# From the dataframe I add the weights to the graph\n",
    "for i in range(len(df_dislike)):\n",
    "    for j in range(i + 1, len(df_dislike)):\n",
    "        weight = df_dislike.iloc[i, j]\n",
    "        if weight != 0:\n",
    "            graph.add_edge(df_dislike.index[i], df_dislike.index[j], weight=weight)\n",
    "\n",
    "# Here I make a loopback to the node itself with weight 0\n",
    "for node in graph.nodes():\n",
    "    graph.add_edge(node, node, weight=0)\n",
    "\n",
    "print(graph)"
   ]
  },
  {
   "cell_type": "markdown",
   "metadata": {},
   "source": [
    "<b>Weighted Grpah Visualization</b>"
   ]
  },
  {
   "cell_type": "code",
   "execution_count": 5,
   "metadata": {},
   "outputs": [
    {
     "data": {
      "image/png": "[encoded data removed]",
      "text/plain": [
       "<Figure size 640x480 with 1 Axes>"
      ]
     },
     "metadata": {},
     "output_type": "display_data"
    }
   ],
   "source": [
    "pos = nx.spring_layout(graph)  \n",
    "labels = nx.get_edge_attributes(graph, 'weight')\n",
    "nx.draw_networkx_nodes(graph, pos, node_size=500)\n",
    "nx.draw_networkx_edges(graph, pos)\n",
    "nx.draw_networkx_edge_labels(graph, pos, edge_labels=labels)\n",
    "nx.draw_networkx_labels(graph, pos)\n",
    "plt.title('Figure 2: Graph Visualization')\n",
    "plt.show()"
   ]
  },
  {
   "cell_type": "markdown",
   "metadata": {},
   "source": [
    "This is a complete graph which means that there exists a path between any two vertices in the graph"
   ]
  },
  {
   "cell_type": "markdown",
   "metadata": {},
   "source": [
    "#### <b>Task 2: Cost Function</b>"
   ]
  },
  {
   "cell_type": "markdown",
   "metadata": {},
   "source": [
    "The cost function used is a Non-Linear Dislike Cost function. Define a non-linear function f(x) that maps dislike percentages to costs. e.g., f(x) = x^2 would make high dislike percentages have a quadratically higher cost.\n",
    "\n",
    "`f(n) = sum(dislike_percentages_between_neighbors) + sum(f(dislike_percentages_between_neighbors))`\n",
    "\n",
    "The aim of this function is to penalize highly disliked pairs more severely than just a constant of a linear mapping."
   ]
  },
  {
   "cell_type": "code",
   "execution_count": 6,
   "metadata": {},
   "outputs": [],
   "source": [
    "def calculate_cost(path, graph):\n",
    "    \"\"\"\n",
    "    The cost function, this will compute the total cost of the path in a graph.\n",
    "    The total cost calculation should consider both directions between adjacent pairs to avoid asymmetry. \n",
    "    Args:\n",
    "        path (list): List of nodes or a specific seating arrangements.\n",
    "        graph (nx.Graph): graph obj. that has the nodes and the edges.\n",
    "    Return:\n",
    "        Represents the total dislike in the whole path \n",
    "    \"\"\"\n",
    "    total_cost = 0.0\n",
    "    if len(path) == 0:\n",
    "        return None\n",
    "    for i in range(len(path)):\n",
    "        person1 = path[i]\n",
    "        person2 = path[(i + 1) % len(path)]  \n",
    "        if graph.has_edge(person1, person2):\n",
    "            dislike_percentage = graph[person1][person2]['weight']\n",
    "            total_cost += dislike_percentage**2 # non-linearity\n",
    "    return total_cost"
   ]
  },
  {
   "cell_type": "markdown",
   "metadata": {},
   "source": [
    "#### <b>Table solution visualization</b>"
   ]
  },
  {
   "cell_type": "markdown",
   "metadata": {},
   "source": [
    "- This function is created to visulaize the round table arrangemnet"
   ]
  },
  {
   "cell_type": "code",
   "execution_count": 7,
   "metadata": {},
   "outputs": [],
   "source": [
    "def visualize_round_table(arrangement, title):\n",
    "    \"\"\"\n",
    "    Visualizes the round table arrangement using a graph plot.\n",
    "    Args:\n",
    "        arrangement (list): the seating arrangement in order.\n",
    "    Returns:\n",
    "        None \n",
    "    \"\"\"\n",
    "    G = nx.cycle_graph(len(arrangement))\n",
    "    node_labels = {i: name for i, name in enumerate(arrangement)}\n",
    "    pos = nx.circular_layout(G)\n",
    "    edges = [(arrangement[i], arrangement[(i + 1) % len(arrangement)]) for i in range(len(arrangement))]\n",
    "    valid_edges = [edge for edge in edges if edge[0] in G.nodes and edge[1] in G.nodes]\n",
    "    \n",
    "    nx.draw(G, pos, with_labels=True, labels=node_labels, node_color='skyblue', node_size=800, font_size=10, font_weight='bold')\n",
    "    nx.draw_networkx_edges(G, pos, edgelist=valid_edges, edge_color='orange', width=2)\n",
    "    plt.title(title)\n",
    "    plt.show()"
   ]
  },
  {
   "cell_type": "markdown",
   "metadata": {},
   "source": [
    "#### <b>Algorithms Implementations</b>"
   ]
  },
  {
   "cell_type": "markdown",
   "metadata": {},
   "source": [
    "<b>Genetic Algorithm algorithm Implementation</b>"
   ]
  },
  {
   "cell_type": "code",
   "execution_count": 8,
   "metadata": {},
   "outputs": [],
   "source": [
    "def genetic_algorithm(population_size=100, num_generations=1000, mutation_rate=0.1) :\n",
    "    \"\"\"\n",
    "    An implemnetation of Genetic algorithm\n",
    "    Args:\n",
    "        graph (nx.Graph): graph of the data\n",
    "        start_node (str): the start node\n",
    "    -\tPopulation initialization: Randomly generate the initial population. \n",
    "    -\tSelection: Use elitism to select the top 60% of the population based on their cost. \n",
    "    -\tCrossover: Combine pairs of parents to create offspring. \n",
    "    -\tMutation: Randomly swap positions of two people in an arrangement with a given mutation rate. \n",
    "    Returns:\n",
    "        optimal_arrangement (list): Optimal seating arrangement (path) minimizing conflict.\n",
    "        min_cost (float): total cost for solution\n",
    "    \"\"\"\n",
    "    min_cost = float('inf')\n",
    "    optimal_arrangement = None\n",
    "    individuals = list(graph.nodes)\n",
    "    if len(individuals) == 0:\n",
    "        return None\n",
    "    \n",
    "    return optimal_arrangement, min_cost"
   ]
  },
  {
   "cell_type": "markdown",
   "metadata": {},
   "source": [
    "- Call function on the data and check the time, performace:"
   ]
  },
  {
   "cell_type": "code",
   "execution_count": null,
   "metadata": {},
   "outputs": [],
   "source": [
    "optimal_arrangement_genetic, min_cost_genetic = genetic_algorithm(graph)\n",
    "if optimal_arrangement_genetic == None:\n",
    "    print(\"Genetic Algorithm was not able to find a path\")\n",
    "else: \n",
    "    print(\"The best round table arrangmnet using Genetic Algorithm is: \",optimal_arrangement_genetic)\n",
    "    print(\"Genetic min total cost\", min_cost_genetic)\n",
    "    print(\"Average dislike percenatge per edge: \", np.sqrt(min_cost_genetic/55))"
   ]
  },
  {
   "cell_type": "code",
   "execution_count": null,
   "metadata": {},
   "outputs": [],
   "source": [
    "visualize_round_table(optimal_arrangement_genetic, 'Figure 3: Round Table Seating Arrangement for Genetic')"
   ]
  },
  {
   "cell_type": "markdown",
   "metadata": {},
   "source": [
    "<b>Simulated Annealing  algorithm Implementation</b>"
   ]
  },
  {
   "cell_type": "code",
   "execution_count": 9,
   "metadata": {},
   "outputs": [],
   "source": [
    "def  simulated_annealing(initial_temperature=1000,cooling_rate=0.99, num_iterations=10000):\n",
    "    \"\"\"\n",
    "    An implemnetation of greedy search algorithm that finds the round arranemnet with minumum hate \n",
    "    Args:\n",
    "        graph (nx.Grpah): graph object \n",
    "    -\tInitial solution: Start with a random arrangement. \n",
    "    -\tTemperature: Decrease the temperature gradually according to the cooling rate. \n",
    "    -\tAcceptance probability: Accept worse solutions with a probability depending on the current temperature to escape local minima. \n",
    "    Returns:\n",
    "        None if it fails or returns the path that have a solution\n",
    "    \"\"\"\n",
    "    individuals = list(graph.nodes)\n",
    "    current_node = individuals[0]\n",
    "    path = [current_node]\n",
    "    min_cost = float('inf')\n",
    "    visited = {current_node}\n",
    "    if len(individuals) == 0:\n",
    "        return None\n",
    "    \n",
    "    if len(path) == len(individuals) and path[0] in graph.neighbors(path[-1]):\n",
    "        return path, min_cost\n",
    "    else:\n",
    "        return None  # Fails to find arrangement"
   ]
  },
  {
   "cell_type": "markdown",
   "metadata": {},
   "source": [
    "- Call function on the data and check the time, performace:"
   ]
  },
  {
   "cell_type": "code",
   "execution_count": null,
   "metadata": {},
   "outputs": [],
   "source": [
    "optimal_arrangement_annealing, min_cost_annealing = simulated_annealing(graph)\n",
    "if optimal_arrangement_annealing == None:\n",
    "    print(\"Simulated Annealing was not able to find a path\")\n",
    "else: \n",
    "    print(\"The best round table arrangmnet using Greed is: \", optimal_arrangement_annealing)\n",
    "    print(\"Simulated Annealing min total cost\", min_cost_annealing)\n",
    "    print(\"Average dislike percenatge per edge: \", np.sqrt(min_cost_annealing/55))"
   ]
  },
  {
   "cell_type": "code",
   "execution_count": null,
   "metadata": {},
   "outputs": [],
   "source": [
    "visualize_round_table(optimal_arrangement_annealing,'Figure 4: Round Table Seating Arrangement for Simulated Annealing')"
   ]
  },
  {
   "cell_type": "markdown",
   "metadata": {},
   "source": [
    "<b>Hill Climbing algorithm Implementation</b>"
   ]
  },
  {
   "cell_type": "code",
   "execution_count": 10,
   "metadata": {},
   "outputs": [],
   "source": [
    "def hill_climbing(num_restarts=100):\n",
    "    \"\"\"\n",
    "    Implementation of A* Search algorithm to find the optimal cyclic seating arrangement\n",
    "    minimizing conflict based on dislike percentages.\n",
    "    \n",
    "    Args:\n",
    "        graph (nx.Graph): NetworkX graph representing the complete dislike relationships.\n",
    "    -\tInitial solution: Start with a random arrangement. \n",
    "    -\tNeighbors: Generate neighbors by swapping pairs of people. \n",
    "    -\tRestarts: Perform multiple random restarts to explore different parts of the solution space. \n",
    "\n",
    "    Returns:\n",
    "        tuple or None: Tuple containing the optimal seating arrangement (path) minimizing conflict\n",
    "                       and its corresponding minimum conflict cost, or None if no valid arrangement found.\n",
    "    \"\"\"\n",
    "    individuals = list(graph.nodes)\n",
    "    start_node = individuals[0]\n",
    "    priority_queue = [(0, [start_node])]  \n",
    "    visited = {start_node: 0}  \n",
    "    if len(individuals) == 0:\n",
    "        return None    \n",
    "    \n",
    "    return None"
   ]
  },
  {
   "cell_type": "markdown",
   "metadata": {},
   "source": [
    "- Call function on the data and check the time, performace:"
   ]
  },
  {
   "cell_type": "code",
   "execution_count": null,
   "metadata": {},
   "outputs": [],
   "source": [
    "optimal_arrangement_hill, min_cost_hill = hill_climbing()\n",
    "if optimal_arrangement_hill == None:\n",
    "    print(\"Hill climbing was not able to find a path\")\n",
    "else:    \n",
    "    print(\"The best round table arrangmnet using Hill climbing is: \",optimal_arrangement_hill)\n",
    "    print(\"Hill climbing min total cost\", min_cost_hill)\n",
    "    print(\"Average dislike percenatge per edge: \", np.sqrt(min_cost_hill/55))"
   ]
  },
  {
   "cell_type": "code",
   "execution_count": null,
   "metadata": {},
   "outputs": [],
   "source": [
    "visualize_round_table(optimal_arrangement_hill,'Figure 5: Round Table Seating Arrangement for Hill climbing')"
   ]
  },
  {
   "cell_type": "markdown",
   "metadata": {},
   "source": [
    "#### <b>Discussion, Evaluation and Results</b>"
   ]
  },
  {
   "cell_type": "markdown",
   "metadata": {},
   "source": [
    "Three algorthims were implemented to minimize the dislike as a round table arrangemnet is done. The below table shows a summary of the implementations done. "
   ]
  },
  {
   "cell_type": "markdown",
   "metadata": {},
   "source": [
    "Table 2: Algorthims Comparision\n",
    "\n",
    "|Algorithm|Path|Minium Cost|\n",
    "|---------|----|-----------|\n",
    "|Genetic|[]||\n",
    "|Simulated Annealing|[]||\n",
    "|Hill Climbing|[]||"
   ]
  },
  {
   "cell_type": "markdown",
   "metadata": {},
   "source": [
    "> It is noticed that "
   ]
  },
  {
   "cell_type": "markdown",
   "metadata": {},
   "source": [
    "#### <b>Conclusion</b>\n",
    "In conclusion, the objectives are met where three algorithms were implemnted to find the optimal round arrangement. The implemnations were called and evaluated mainly based on the minimum cost that they had. While "
   ]
  },
  {
   "cell_type": "markdown",
   "metadata": {},
   "source": [
    "So the final seating arrangemnet was chosen to be the one that -- obtained, which is the minumum conflict between seats. Folwoing is it's visulization:"
   ]
  },
  {
   "cell_type": "code",
   "execution_count": null,
   "metadata": {},
   "outputs": [],
   "source": [
    "visualize_round_table(optimal_arrangement_hill, 'Figure 6: Optimal Round Table Seating Arrangement')"
   ]
  },
  {
   "cell_type": "markdown",
   "metadata": {},
   "source": [
    "#### <b>Refrences</b>\n",
    "\n",
    "- [1] (PDF) Overview of Metaheuristic Algorithms. Available from: https://www.researchgate.net/publication/370422753_Overview_of_Metaheuristic_Algorithms [accessed Jun 08 2024].\n",
    "- [2] https://www.baeldung.com/cs/heuristics-vs-meta-heuristics-vs-probabilistic-algorithms\n",
    "- [3] https://www.geeksforgeeks.org/introduction-hill-climbing-artificial-intelligence/"
   ]
  }
 ],
 "metadata": {
  "kernelspec": {
   "display_name": "Python 3",
   "language": "python",
   "name": "python3"
  },
  "language_info": {
   "codemirror_mode": {
    "name": "ipython",
    "version": 3
   },
   "file_extension": ".py",
   "mimetype": "text/x-python",
   "name": "python",
   "nbconvert_exporter": "python",
   "pygments_lexer": "ipython3",
   "version": "3.11.0"
  }
 },
 "nbformat": 4,
 "nbformat_minor": 2
}
